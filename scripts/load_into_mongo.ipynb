{
 "cells": [
  {
   "cell_type": "code",
   "execution_count": null,
   "id": "d5d4d603",
   "metadata": {},
   "outputs": [],
   "source": [
    "import json"
   ]
  },
  {
   "cell_type": "code",
   "execution_count": null,
   "id": "885915d6",
   "metadata": {},
   "outputs": [],
   "source": [
    "with open(\"final.json\") as json_file:\n",
    "    data = json.load(json_file)"
   ]
  },
  {
   "cell_type": "code",
   "execution_count": null,
   "id": "7dc8db79",
   "metadata": {},
   "outputs": [],
   "source": [
    "print(len(data))"
   ]
  },
  {
   "cell_type": "code",
   "execution_count": null,
   "id": "0262dbdf",
   "metadata": {},
   "outputs": [],
   "source": [
    "print(data.keys())"
   ]
  },
  {
   "cell_type": "code",
   "execution_count": null,
   "id": "766bb24d",
   "metadata": {},
   "outputs": [],
   "source": [
    "print(data.get('Gyotak', ''))"
   ]
  },
  {
   "cell_type": "code",
   "execution_count": null,
   "id": "4984d16a",
   "metadata": {},
   "outputs": [],
   "source": [
    "from pymongo import MongoClient\n",
    "from dotenv import load_dotenv\n",
    "import os"
   ]
  },
  {
   "cell_type": "code",
   "execution_count": null,
   "id": "e3dead58",
   "metadata": {},
   "outputs": [],
   "source": [
    "load_dotenv('../.env')\n",
    "mongo_srv = os.getenv(\"MONGODB_SRV\")\n"
   ]
  },
  {
   "cell_type": "code",
   "execution_count": null,
   "id": "4db50184",
   "metadata": {},
   "outputs": [],
   "source": [
    "client = MongoClient(mongo_srv)"
   ]
  },
  {
   "cell_type": "code",
   "execution_count": null,
   "id": "6d5d5192",
   "metadata": {},
   "outputs": [],
   "source": [
    "db = client.myFirstDatabase"
   ]
  },
  {
   "cell_type": "code",
   "execution_count": null,
   "id": "e7426182",
   "metadata": {},
   "outputs": [],
   "source": [
    "test_object = {\n",
    "    'restaurantId' : 123,\n",
    "    'name': 'food3',\n",
    "    \"allergens\" : \"egg, soy, dairy\",\n",
    "    'serving_size' : 'one lovely serving',\n",
    "    'total_cal' : None,\n",
    "    'fat_g' : 12,\n",
    "    \"carbs_g\": 4.2,\n",
    "    \"sugars_g\" : 12,\n",
    "    \"protein_g\" : 1.1\n",
    "}"
   ]
  },
  {
   "cell_type": "code",
   "execution_count": null,
   "id": "a467aa6c",
   "metadata": {},
   "outputs": [],
   "source": [
    "result=db.foods.insert_one(test_object)"
   ]
  },
  {
   "cell_type": "code",
   "execution_count": null,
   "id": "f84bc1ab",
   "metadata": {},
   "outputs": [],
   "source": [
    "import re"
   ]
  },
  {
   "cell_type": "code",
   "execution_count": null,
   "id": "9e39ca23",
   "metadata": {},
   "outputs": [],
   "source": [
    "def find_num(inp_str):\n",
    "    return re.findall(r'\\d+', inp_str) "
   ]
  },
  {
   "cell_type": "code",
   "execution_count": null,
   "id": "8a7bfb11",
   "metadata": {},
   "outputs": [],
   "source": [
    "for restaurant in data:\n",
    "    restaurant_object = {\n",
    "        'name' : restaurant\n",
    "    }\n",
    "    result = db.restaurants.insert_one(restaurant_object)\n",
    "    \n",
    "    restaurant_id = result.inserted_id\n",
    "    \n",
    "    for menu in data[restaurant]:\n",
    "        \n",
    "        for submenu in data[restaurant][menu]:\n",
    "            \n",
    "            for menu_item in data[restaurant][menu][submenu]:\n",
    "                \n",
    "                temp_data = data[restaurant][menu][submenu][menu_item]\n",
    "                \n",
    "                temp_data_object = {\n",
    "                    'restaurantId' : restaurant_id,\n",
    "                    'menu' : menu,\n",
    "                    'submenu' : submenu,\n",
    "                    'name': menu_item,\n",
    "                    \"allergens\" : temp_data.get('allergy'),\n",
    "                    \"ingredients\" : temp_data.get('ingredients'),\n",
    "                    'serving_size' : temp_data.get('serving_size'),\n",
    "                    'servings_per_container' : temp_data.get('servings_per_container'),\n",
    "                    'total_cal' : temp_data.get('calories'),\n",
    "                    'fat_g' : find_num(temp_data.get('total_fat')),\n",
    "                    'sat_fat_g' : find_num(temp_data.get('saturated_fat')),\n",
    "                    'trans_fat_g' : find_num(temp_data.get('trans_fat')),\n",
    "                    'chloestrol_mg' : find_num(temp_data.get('chloestrol')),\n",
    "                    'sodium_mg' : find_num(temp_data.get('sodium')),\n",
    "                    \"carbs_g\": find_num(temp_data.get('carb')),\n",
    "                    \"fiber_g\": find_num(temp_data.get('fiber')),\n",
    "                    \"sugars_g\" : find_num(temp_data.get('sugar')),\n",
    "                    \"protein_g\" : find_num(temp_data.get('protein')),\n",
    "                    \n",
    "                }\n",
    "                \n",
    "                result = db.foods.insert_one(temp_data_object)"
   ]
  },
  {
   "cell_type": "code",
   "execution_count": null,
   "id": "770d962d",
   "metadata": {},
   "outputs": [],
   "source": [
    "print(\"done\")"
   ]
  },
  {
   "cell_type": "code",
   "execution_count": null,
   "id": "bb463277",
   "metadata": {},
   "outputs": [],
   "source": []
  }
 ],
 "metadata": {
  "kernelspec": {
   "display_name": "Python 3",
   "language": "python",
   "name": "python3"
  },
  "language_info": {
   "codemirror_mode": {
    "name": "ipython",
    "version": 3
   },
   "file_extension": ".py",
   "mimetype": "text/x-python",
   "name": "python",
   "nbconvert_exporter": "python",
   "pygments_lexer": "ipython3",
   "version": "3.8.8"
  }
 },
 "nbformat": 4,
 "nbformat_minor": 5
}

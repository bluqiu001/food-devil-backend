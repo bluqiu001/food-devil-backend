{
 "cells": [
  {
   "cell_type": "code",
   "execution_count": 1,
   "id": "efd8bebd",
   "metadata": {},
   "outputs": [],
   "source": [
    "import glob\n",
    "import json"
   ]
  },
  {
   "cell_type": "code",
   "execution_count": 2,
   "id": "293071a7",
   "metadata": {},
   "outputs": [],
   "source": [
    "files = glob.glob('./temp/*.json')\n"
   ]
  },
  {
   "cell_type": "code",
   "execution_count": 3,
   "id": "e75f3292",
   "metadata": {},
   "outputs": [],
   "source": [
    "combined = {}\n",
    "for file in files:\n",
    "    if \"single\" in file:\n",
    "        continue\n",
    "    with open(file) as json_file:\n",
    "        temp_dict = json.load(json_file)\n",
    "        for key in temp_dict:\n",
    "            if key not in combined:\n",
    "                combined[key] = temp_dict[key]\n",
    "\n",
    "    "
   ]
  },
  {
   "cell_type": "code",
   "execution_count": 4,
   "id": "284237de",
   "metadata": {},
   "outputs": [
    {
     "name": "stdout",
     "output_type": "stream",
     "text": [
      "0\n"
     ]
    }
   ],
   "source": [
    "print(len(combined))"
   ]
  },
  {
   "cell_type": "code",
   "execution_count": 5,
   "id": "e07b0311",
   "metadata": {},
   "outputs": [],
   "source": [
    "f = open(\"final.json\", \"w\")\n",
    "json.dump(combined, f)\n",
    "f.close()"
   ]
  },
  {
   "cell_type": "code",
   "execution_count": null,
   "id": "d0142c6a",
   "metadata": {},
   "outputs": [],
   "source": []
  }
 ],
 "metadata": {
  "kernelspec": {
   "display_name": "Python 3",
   "language": "python",
   "name": "python3"
  },
  "language_info": {
   "codemirror_mode": {
    "name": "ipython",
    "version": 3
   },
   "file_extension": ".py",
   "mimetype": "text/x-python",
   "name": "python",
   "nbconvert_exporter": "python",
   "pygments_lexer": "ipython3",
   "version": "3.8.8"
  }
 },
 "nbformat": 4,
 "nbformat_minor": 5
}

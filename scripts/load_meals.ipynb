{
 "cells": [
  {
   "cell_type": "code",
   "execution_count": 1,
   "id": "d5d4d603",
   "metadata": {},
   "outputs": [],
   "source": [
    "import json"
   ]
  },
  {
   "cell_type": "code",
   "execution_count": 2,
   "id": "4984d16a",
   "metadata": {},
   "outputs": [],
   "source": [
    "from pymongo import MongoClient\n",
    "from dotenv import load_dotenv\n",
    "import os"
   ]
  },
  {
   "cell_type": "code",
   "execution_count": 3,
   "id": "e3dead58",
   "metadata": {},
   "outputs": [],
   "source": [
    "load_dotenv('../.env')\n",
    "mongo_srv = os.getenv(\"MONGODB_SRV\")\n"
   ]
  },
  {
   "cell_type": "code",
   "execution_count": 4,
   "id": "4db50184",
   "metadata": {},
   "outputs": [],
   "source": [
    "client = MongoClient(mongo_srv)"
   ]
  },
  {
   "cell_type": "code",
   "execution_count": 5,
   "id": "6d5d5192",
   "metadata": {},
   "outputs": [],
   "source": [
    "db = client.myFirstDatabase"
   ]
  },
  {
   "cell_type": "code",
   "execution_count": 6,
   "id": "fdce9326",
   "metadata": {},
   "outputs": [],
   "source": [
    "collection = db['foods']\n",
    "cursor = collection.find({})\n",
    "\n",
    "menu_items = {}\n",
    "\n",
    "for document in cursor:\n",
    "        if document['restaurantId'] not in menu_items:\n",
    "                menu_items[document['restaurantId']] = []\n",
    "        menu_items[document['restaurantId']].append(document['_id'])"
   ]
  },
  {
   "cell_type": "code",
   "execution_count": 12,
   "id": "0da3969d",
   "metadata": {},
   "outputs": [],
   "source": [
    "user_id = \"617715e3ae93969fd1bfcc89\""
   ]
  },
  {
   "cell_type": "code",
   "execution_count": 15,
   "id": "30a959f7",
   "metadata": {},
   "outputs": [],
   "source": [
    "from datetime import datetime, timedelta\n",
    "import random\n",
    "import bson"
   ]
  },
  {
   "cell_type": "code",
   "execution_count": 23,
   "id": "63a8326d",
   "metadata": {},
   "outputs": [],
   "source": [
    "food_items = menu_items[bson.objectid.ObjectId(\"616ad598d252dea11b903aca\")]\n",
    "\n",
    "test_object = {\n",
    "    'user_id' : bson.objectid.ObjectId(user_id),\n",
    "    'foods': random.choices(food_items, k=4),\n",
    "    'restaurants': [bson.objectid.ObjectId(\"616ad598d252dea11b903aca\")],\n",
    "    'createdAt': (datetime.today() - timedelta(days = 1)).replace(microsecond=0),\n",
    "    'updatedAt': (datetime.today() - timedelta(days = 1)).replace(microsecond=0)\n",
    "}   "
   ]
  },
  {
   "cell_type": "code",
   "execution_count": 24,
   "id": "fe302cf9",
   "metadata": {},
   "outputs": [],
   "source": [
    "result=db.meals.insert_one(test_object)"
   ]
  },
  {
   "cell_type": "code",
   "execution_count": null,
   "id": "ec506730",
   "metadata": {},
   "outputs": [],
   "source": []
  },
  {
   "cell_type": "code",
   "execution_count": 44,
   "id": "e0e142e7",
   "metadata": {},
   "outputs": [],
   "source": [
    "i = 0\n",
    "for restaurant_id in menu_items:\n",
    "    food_items = menu_items[restaurant_id]\n",
    "    test_object = {\n",
    "        'user_id' : bson.objectid.ObjectId(user_id),\n",
    "        'foods': random.choices(food_items, k=4),\n",
    "        'restaurants': [restaurant_id],\n",
    "        'createdAt': (datetime.today() - timedelta(days = i)).replace(microsecond=0),\n",
    "        'updatedAt': (datetime.today() - timedelta(days = i)).replace(microsecond=0)\n",
    "    }   \n",
    "    result=db.meals.insert_one(test_object)\n",
    "    i += 1\n",
    "    \n"
   ]
  },
  {
   "cell_type": "code",
   "execution_count": 7,
   "id": "c90eaa5a",
   "metadata": {},
   "outputs": [],
   "source": [
    "collection = db['users']\n",
    "cursor = collection.find({})\n",
    "\n",
    "users = []\n",
    "\n",
    "for document in cursor:\n",
    "    users.append(document['_id'])"
   ]
  },
  {
   "cell_type": "code",
   "execution_count": 39,
   "id": "d0809d61",
   "metadata": {},
   "outputs": [],
   "source": [
    "myquery = { \"user_id\": bson.objectid.ObjectId(user_id)}"
   ]
  },
  {
   "cell_type": "code",
   "execution_count": 41,
   "id": "0501b1ee",
   "metadata": {},
   "outputs": [
    {
     "name": "stdout",
     "output_type": "stream",
     "text": [
      "{'user_id': ObjectId('617715e3ae93969fd1bfcc89')}\n"
     ]
    }
   ],
   "source": [
    "print(myquery)"
   ]
  },
  {
   "cell_type": "code",
   "execution_count": 42,
   "id": "17dc0beb",
   "metadata": {},
   "outputs": [],
   "source": [
    "result=db.meals.delete_many({})"
   ]
  },
  {
   "cell_type": "code",
   "execution_count": 11,
   "id": "0c52c134",
   "metadata": {},
   "outputs": [
    {
     "name": "stdout",
     "output_type": "stream",
     "text": [
      "0\n",
      "0\n",
      "0\n",
      "0\n",
      "0\n",
      "0\n",
      "0\n",
      "0\n",
      "0\n",
      "0\n",
      "0\n",
      "0\n",
      "0\n",
      "0\n",
      "0\n",
      "0\n",
      "0\n",
      "0\n",
      "0\n",
      "0\n",
      "0\n",
      "0\n",
      "0\n",
      "0\n",
      "0\n",
      "0\n",
      "0\n"
     ]
    }
   ],
   "source": [
    "import random\n",
    "from datetime import datetime, timedelta\n",
    "i = 0\n",
    "j = 0\n",
    "documents = []\n",
    "for restaurant_id in menu_items:\n",
    "    for user in users:\n",
    "        food_items = menu_items[restaurant_id]\n",
    "        test_object = {\n",
    "            'user_id' : user,\n",
    "            'foods': random.choices(food_items, k=4),\n",
    "            'restaurants': [restaurant_id],\n",
    "            'createdAt': (datetime.today() - timedelta(days = i)).replace(microsecond=0),\n",
    "            'updatedAt': (datetime.today() - timedelta(days = i)).replace(microsecond=0)\n",
    "        }   \n",
    "        documents.append(test_object)\n",
    "        \n",
    "    i += 1\n",
    "    print(j)\n",
    "result=db.meals.insert_many(documents)\n",
    "    \n"
   ]
  },
  {
   "cell_type": "code",
   "execution_count": null,
   "id": "b24b12ec",
   "metadata": {},
   "outputs": [],
   "source": []
  }
 ],
 "metadata": {
  "kernelspec": {
   "display_name": "Python 3",
   "language": "python",
   "name": "python3"
  },
  "language_info": {
   "codemirror_mode": {
    "name": "ipython",
    "version": 3
   },
   "file_extension": ".py",
   "mimetype": "text/x-python",
   "name": "python",
   "nbconvert_exporter": "python",
   "pygments_lexer": "ipython3",
   "version": "3.8.8"
  }
 },
 "nbformat": 4,
 "nbformat_minor": 5
}

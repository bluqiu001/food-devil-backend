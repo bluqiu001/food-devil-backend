{
 "cells": [
  {
   "cell_type": "code",
   "execution_count": 1,
   "id": "d5d4d603",
   "metadata": {},
   "outputs": [],
   "source": [
    "import json"
   ]
  },
  {
   "cell_type": "code",
   "execution_count": 2,
   "id": "4984d16a",
   "metadata": {},
   "outputs": [],
   "source": [
    "from pymongo import MongoClient\n",
    "from dotenv import load_dotenv\n",
    "import os"
   ]
  },
  {
   "cell_type": "code",
   "execution_count": 3,
   "id": "e3dead58",
   "metadata": {},
   "outputs": [],
   "source": [
    "load_dotenv('../.env')\n",
    "mongo_srv = os.getenv(\"MONGODB_SRV\")\n"
   ]
  },
  {
   "cell_type": "code",
   "execution_count": 4,
   "id": "4db50184",
   "metadata": {},
   "outputs": [],
   "source": [
    "client = MongoClient(mongo_srv)"
   ]
  },
  {
   "cell_type": "code",
   "execution_count": 5,
   "id": "6d5d5192",
   "metadata": {},
   "outputs": [],
   "source": [
    "db = client.myFirstDatabase"
   ]
  },
  {
   "cell_type": "code",
   "execution_count": 6,
   "id": "fdce9326",
   "metadata": {},
   "outputs": [],
   "source": [
    "collection = db['foods']\n",
    "cursor = collection.find({})\n",
    "\n",
    "menu_items = {}\n",
    "\n",
    "for document in cursor:\n",
    "        if document['restaurantId'] not in menu_items:\n",
    "                menu_items[document['restaurantId']] = []\n",
    "        menu_items[document['restaurantId']].append(document['_id'])"
   ]
  },
  {
   "cell_type": "code",
   "execution_count": 12,
   "id": "0da3969d",
   "metadata": {},
   "outputs": [],
   "source": [
    "user_id = \"617715e3ae93969fd1bfcc89\""
   ]
  },
  {
   "cell_type": "code",
   "execution_count": 14,
   "id": "30a959f7",
   "metadata": {},
   "outputs": [],
   "source": [
    "from datetime import datetime, timedelta\n",
    "import random"
   ]
  },
  {
   "cell_type": "code",
   "execution_count": null,
   "id": "e0e142e7",
   "metadata": {},
   "outputs": [],
   "source": [
    "i = 0\n",
    "for restaurant_id in menu_items:\n",
    "    food_items = menu_items[restaurant_id]\n",
    "    test_object = {\n",
    "        'user_id' : user_id,\n",
    "        'foods': random.choices(food_items, k=4),\n",
    "        'createdAt': (datetime.today() - timedelta(days = i)).replace(microsecond=0),\n",
    "        'updatedAt': (datetime.today() - timedelta(days = i)).replace(microsecond=0)\n",
    "    }   \n",
    "    i += 1\n"
   ]
  },
  {
   "cell_type": "code",
   "execution_count": 26,
   "id": "c90eaa5a",
   "metadata": {},
   "outputs": [],
   "source": [
    "test_object = {\n",
    "    'user_id' : bson.objectid.ObjectId('617086906ef986fd7db4b10f'),\n",
    "    'restaurant_id': bson.objectid.ObjectId('616ad5e1d252dea11b904646'),\n",
    "    \"description\" : \"Random text for Mongo\",\n",
    "    'stars' : 4,\n",
    "    'is_anonymous' : True,\n",
    "    'createdAt': datetime.today().replace(microsecond=0),\n",
    "    'updatedAt': datetime.today().replace(microsecond=0)\n",
    "}"
   ]
  },
  {
   "cell_type": "code",
   "execution_count": 27,
   "id": "9c3f6646",
   "metadata": {},
   "outputs": [],
   "source": [
    "result=db.reviews.insert_one(test_object)"
   ]
  },
  {
   "cell_type": "code",
   "execution_count": 28,
   "id": "f8afe717",
   "metadata": {},
   "outputs": [
    {
     "name": "stdout",
     "output_type": "stream",
     "text": [
      "61abc78cad4a23d4fa4101c7\n"
     ]
    }
   ],
   "source": [
    "print(result.inserted_id)"
   ]
  },
  {
   "cell_type": "code",
   "execution_count": 29,
   "id": "f249921e",
   "metadata": {},
   "outputs": [],
   "source": [
    "import random\n",
    "import string\n",
    "letters = string.ascii_lowercase"
   ]
  },
  {
   "cell_type": "code",
   "execution_count": 30,
   "id": "5cb42a1a",
   "metadata": {},
   "outputs": [],
   "source": [
    "users = []\n",
    "\n",
    "for i in range (100):\n",
    "    test_object = {\n",
    "        'full_name': \"Testing Test\",\n",
    "        'username' : ''.join(random.choice(letters) for i in range(20)),\n",
    "        'password' : ''.join(random.choice(letters) for i in range(20))\n",
    "    }  \n",
    "    result=db.users.insert_one(test_object) \n",
    "    users.append(result.inserted_id)"
   ]
  },
  {
   "cell_type": "code",
   "execution_count": 32,
   "id": "c61b087e",
   "metadata": {},
   "outputs": [
    {
     "name": "stdout",
     "output_type": "stream",
     "text": [
      "<class 'bson.objectid.ObjectId'>\n"
     ]
    }
   ],
   "source": [
    "print(type(users[0]))"
   ]
  },
  {
   "cell_type": "code",
   "execution_count": 51,
   "id": "2bc0e5d1",
   "metadata": {},
   "outputs": [
    {
     "name": "stdout",
     "output_type": "stream",
     "text": [
      "mdqf hgbrnn tef egb bwy siuxu owmfvart vrq abyuwl swzq rcrcsgp bqbnrd sfxgj rhzque uexzeisp cswrd rca lxvfkbhv kimg gjhtgkdl phaztalt mcfh qujhz atp xsy tkp bds krvfgrwp dcnwmne awqeuqzp mrjjwsks gdjdmn qxfwrgug cfrwdno movwbxt eltaitn mtfv wfyt szbni \n"
     ]
    }
   ],
   "source": [
    "sentence = ''\n",
    "for i in range (random.randint(30, 40)):\n",
    "    sentence += ''.join(random.choice(letters) for i in range(random.randint(3, 8))) + ' '\n",
    "print(sentence)"
   ]
  },
  {
   "cell_type": "code",
   "execution_count": 52,
   "id": "b2a6adab",
   "metadata": {},
   "outputs": [],
   "source": [
    "def get_document(user_id, restaurant_id):\n",
    "    sentence = ''\n",
    "    for i in range (random.randint(30, 40)):\n",
    "        sentence += ''.join(random.choice(letters) for i in range(random.randint(3, 8))) + ' '\n",
    "    return {\n",
    "        'user_id' : user_id,\n",
    "        'restaurant_id': restaurant_id,\n",
    "        \"description\" : sentence,\n",
    "        'stars' : random.randint(1, 5),\n",
    "        'is_anonymous' : bool(random.getrandbits(1)),\n",
    "        'createdAt': datetime.today().replace(microsecond=0),\n",
    "        'updatedAt': datetime.today().replace(microsecond=0)\n",
    "    }       "
   ]
  },
  {
   "cell_type": "code",
   "execution_count": 53,
   "id": "04d4859e",
   "metadata": {},
   "outputs": [
    {
     "name": "stdout",
     "output_type": "stream",
     "text": [
      "1\n",
      "2\n",
      "3\n",
      "4\n",
      "5\n",
      "6\n",
      "7\n",
      "8\n",
      "9\n",
      "10\n",
      "11\n",
      "12\n",
      "13\n",
      "14\n",
      "15\n",
      "16\n",
      "17\n",
      "18\n",
      "19\n",
      "20\n",
      "21\n",
      "22\n",
      "23\n",
      "24\n",
      "25\n",
      "26\n",
      "27\n"
     ]
    }
   ],
   "source": [
    "collection = db['restaurants']\n",
    "cursor = collection.find({})\n",
    "i = 1\n",
    "for document in cursor:\n",
    "        print(i)\n",
    "        i += 1\n",
    "        for user in users:\n",
    "                doc = get_document(user, document['_id'])\n",
    "                result=db.reviews.insert_one(doc) "
   ]
  },
  {
   "cell_type": "code",
   "execution_count": 45,
   "id": "d8575ac5",
   "metadata": {},
   "outputs": [
    {
     "name": "stdout",
     "output_type": "stream",
     "text": [
      "50\n",
      "100\n",
      "150\n",
      "200\n",
      "250\n",
      "300\n",
      "350\n",
      "400\n",
      "450\n",
      "500\n",
      "550\n",
      "600\n",
      "650\n",
      "700\n",
      "750\n",
      "800\n",
      "850\n",
      "900\n",
      "950\n",
      "1000\n",
      "1050\n",
      "1100\n",
      "1150\n",
      "1200\n",
      "1250\n",
      "1300\n",
      "1350\n",
      "1400\n",
      "1450\n",
      "1500\n",
      "1550\n",
      "1600\n",
      "1650\n",
      "1700\n",
      "1750\n",
      "1800\n",
      "1850\n",
      "1900\n",
      "1950\n",
      "2000\n",
      "2050\n",
      "2100\n",
      "2150\n",
      "2200\n",
      "2250\n",
      "2300\n",
      "2350\n",
      "2400\n",
      "2450\n",
      "2500\n",
      "2550\n",
      "2600\n",
      "2650\n",
      "2700\n"
     ]
    }
   ],
   "source": [
    "collection = db['reviews']\n",
    "cursor = collection.find({})\n",
    "i = 1\n",
    "for document in cursor:\n",
    "    if (len(document['description']) > 99 and len(document['description'] )< 201 ):\n",
    "        i += 1\n",
    "        #print(\"yes\")\n",
    "        myquery = { \"_id\": document['_id'] }\n",
    "        result=db.reviews.delete_one(myquery)\n",
    "    if (i % 50 == 0):\n",
    "        print(i)"
   ]
  },
  {
   "cell_type": "code",
   "execution_count": null,
   "id": "0c52c134",
   "metadata": {},
   "outputs": [],
   "source": []
  }
 ],
 "metadata": {
  "kernelspec": {
   "display_name": "Python 3",
   "language": "python",
   "name": "python3"
  },
  "language_info": {
   "codemirror_mode": {
    "name": "ipython",
    "version": 3
   },
   "file_extension": ".py",
   "mimetype": "text/x-python",
   "name": "python",
   "nbconvert_exporter": "python",
   "pygments_lexer": "ipython3",
   "version": "3.8.8"
  }
 },
 "nbformat": 4,
 "nbformat_minor": 5
}
